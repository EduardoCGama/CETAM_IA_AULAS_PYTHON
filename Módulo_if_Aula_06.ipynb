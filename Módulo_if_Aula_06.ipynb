{
  "cells": [
    {
      "cell_type": "markdown",
      "metadata": {
        "id": "view-in-github",
        "colab_type": "text"
      },
      "source": [
        "<a href=\"https://colab.research.google.com/github/hiramaralIA/CETAM_IA_AULAS_PYTHON/blob/main/M%C3%B3dulo_if_Aula_06.ipynb\" target=\"_parent\"><img src=\"https://colab.research.google.com/assets/colab-badge.svg\" alt=\"Open In Colab\"/></a>"
      ]
    },
    {
      "cell_type": "markdown",
      "metadata": {
        "id": "qoEWAIu9uvOe"
      },
      "source": [
        "# Comparações Contraintuitivas\n",
        "\n",
        "Existem algumas comparações no Python que não são tão intuitivas quando vemos pela primeira vez, mas que são muito usadas, principalmente por programadores mais experientes.\n",
        "\n",
        "É bom sabermos alguns exemplos e buscar sempre entender o que aquela comparação está buscando verificar.\n",
        "\n",
        "### Exemplo 1:\n",
        "\n",
        "Digamos que você está construindo um sistema de controle de vendas e precisa de algumas informações para fazer o cálculo do resultado da loja no fim de um mês."
      ]
    },
    {
      "cell_type": "code",
      "execution_count": null,
      "metadata": {
        "id": "lvCw8uQouvOi"
      },
      "outputs": [],
      "source": [
        "faturamento = input('Qual foi o faturamento da loja nesse mês?')\n",
        "custo = input('Qual foi o custo da loja nesse mês?')\n",
        "\n",
        "lucro = int(faturamento) - int(custo)\n",
        "\n",
        "print(\"O lucro da loja foi de {} reais\".format(lucro))"
      ]
    },
    {
      "cell_type": "markdown",
      "metadata": {
        "id": "p1SiIzbOuvOk"
      },
      "source": [
        "## Resumo\n",
        "\n",
        "Algumas comparações contraintuitivas muito usadas:\n",
        "\n",
        "If 0:\n",
        "\n",
        "If '':\n",
        "\n",
        "Temos outras também, mas que são usadas para verificar listas vazias, dicionários vazios, objetos vazios e assim vai. Quando chegarmos nesses módulos vamos relembrar esse conceito, mas o importante é saber dessa possibilidade e entender seu uso."
      ]
    }
  ],
  "metadata": {
    "kernelspec": {
      "display_name": "Python 3",
      "language": "python",
      "name": "python3"
    },
    "language_info": {
      "codemirror_mode": {
        "name": "ipython",
        "version": 3
      },
      "file_extension": ".py",
      "mimetype": "text/x-python",
      "name": "python",
      "nbconvert_exporter": "python",
      "pygments_lexer": "ipython3",
      "version": "3.8.3"
    },
    "colab": {
      "name": "Módulo if - Aula 06.ipynb",
      "provenance": [],
      "include_colab_link": true
    }
  },
  "nbformat": 4,
  "nbformat_minor": 0
}