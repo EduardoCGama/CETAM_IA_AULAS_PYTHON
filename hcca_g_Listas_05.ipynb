{
  "cells": [
    {
      "cell_type": "markdown",
      "metadata": {
        "id": "view-in-github",
        "colab_type": "text"
      },
      "source": [
        "<a href=\"https://colab.research.google.com/github/hiramaralIA/CETAM_IA_AULAS_PYTHON/blob/main/hcca_g_Listas_05.ipynb\" target=\"_parent\"><img src=\"https://colab.research.google.com/assets/colab-badge.svg\" alt=\"Open In Colab\"/></a>"
      ]
    },
    {
      "cell_type": "markdown",
      "metadata": {
        "id": "jvk8_QCOrzWB"
      },
      "source": [
        "# Algumas Funções Básicas de Lista\n",
        "\n",
        "## Tamanho da Lista\n",
        "\n",
        "tamanho = len(lista)"
      ]
    },
    {
      "cell_type": "code",
      "execution_count": null,
      "metadata": {
        "id": "iKc10bMVrzWF"
      },
      "outputs": [],
      "source": [
        "produtos = ['apple tv', 'mac', 'iphone x', 'IPad', 'apple watch', 'mac book', 'airpods']"
      ]
    },
    {
      "cell_type": "markdown",
      "metadata": {
        "id": "6D80sIssrzWG"
      },
      "source": [
        "- Quantos produtos temos a venda?"
      ]
    },
    {
      "cell_type": "code",
      "execution_count": null,
      "metadata": {
        "id": "7IQ8PKoorzWG",
        "outputId": "05f6d798-3385-42a2-b1f4-7ea989bee5bd"
      },
      "outputs": [
        {
          "name": "stdout",
          "output_type": "stream",
          "text": [
            "Temos 7 produtos\n"
          ]
        }
      ],
      "source": [
        "tamanho = len(produtos)\n",
        "print('Temos {} produtos'.format(tamanho))"
      ]
    },
    {
      "cell_type": "markdown",
      "metadata": {
        "id": "m_hlsHBXrzWH"
      },
      "source": [
        "## Maior e Menor Valor\n",
        "\n",
        "maior = max(lista)\n",
        "\n",
        "menor = min(lista)"
      ]
    },
    {
      "cell_type": "code",
      "execution_count": null,
      "metadata": {
        "id": "U62psy4DrzWI"
      },
      "outputs": [],
      "source": [
        "vendas = [1000, 1500, 15000, 270, 900, 100, 1200]"
      ]
    },
    {
      "cell_type": "markdown",
      "metadata": {
        "id": "Zp4AidA7rzWI"
      },
      "source": [
        "- Qual o item mais vendido?\n",
        "- Qual o item menos vendido?"
      ]
    },
    {
      "cell_type": "code",
      "execution_count": null,
      "metadata": {
        "id": "tn8MwZM6rzWJ",
        "outputId": "4e8cca4c-f79b-4a5e-8773-d2aad8f39658"
      },
      "outputs": [
        {
          "name": "stdout",
          "output_type": "stream",
          "text": [
            "O produto mais vendido teve 15000 unidades vendidas e o menos vendido teve 100 unidades vendidas\n"
          ]
        }
      ],
      "source": [
        "mais_vendido = max(vendas)\n",
        "menos_vendido = min(vendas)\n",
        "print('O produto mais vendido teve {} unidades vendidas e o menos vendido teve {} unidades vendidas'.format(mais_vendido, menos_vendido))"
      ]
    },
    {
      "cell_type": "code",
      "execution_count": null,
      "metadata": {
        "id": "HqRrD0wXrzWK",
        "outputId": "bfccc5e5-683d-42d6-b42f-5ef56f6e3bce"
      },
      "outputs": [
        {
          "name": "stdout",
          "output_type": "stream",
          "text": [
            "iphone x\n",
            "mac book\n"
          ]
        }
      ],
      "source": [
        "i = vendas.index(mais_vendido)\n",
        "produto_mais_vendido = produtos[i]\n",
        "\n",
        "print(produto_mais_vendido)\n",
        "\n",
        "i = vendas.index(menos_vendido)\n",
        "produto_menos_vendido = produtos[i]\n",
        "\n",
        "print(produto_menos_vendido)"
      ]
    }
  ],
  "metadata": {
    "kernelspec": {
      "display_name": "Python 3",
      "language": "python",
      "name": "python3"
    },
    "language_info": {
      "codemirror_mode": {
        "name": "ipython",
        "version": 3
      },
      "file_extension": ".py",
      "mimetype": "text/x-python",
      "name": "python",
      "nbconvert_exporter": "python",
      "pygments_lexer": "ipython3",
      "version": "3.8.3"
    },
    "colab": {
      "name": "Gabarito - Listas 05.ipynb",
      "provenance": [],
      "include_colab_link": true
    }
  },
  "nbformat": 4,
  "nbformat_minor": 0
}