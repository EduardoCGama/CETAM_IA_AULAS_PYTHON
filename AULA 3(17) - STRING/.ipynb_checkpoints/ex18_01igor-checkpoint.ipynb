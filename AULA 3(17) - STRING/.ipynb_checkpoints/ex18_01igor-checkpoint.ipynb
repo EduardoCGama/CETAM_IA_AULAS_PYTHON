{
 "cells": [
  {
   "cell_type": "markdown",
   "metadata": {
    "colab_type": "text",
    "id": "view-in-github"
   },
   "source": [
    "<a href=\"https://colab.research.google.com/github/hiramaralIA/CETAM_IA_AULAS_PYTHON/blob/main/06_06_Exerc%C3%ADcios_String.ipynb\" target=\"_parent\"><img src=\"https://colab.research.google.com/assets/colab-badge.svg\" alt=\"Open In Colab\"/></a>"
   ]
  },
  {
   "cell_type": "markdown",
   "metadata": {
    "id": "sdM1ZOUt8rV1"
   },
   "source": [
    "# Exercícios\n",
    "\n",
    "## 1. Cadastro de CPF\n",
    "\n",
    "Crie um programa para cadastro de CPF de clientes que recebe o CPF em um input box apenas com números.\n",
    "\n",
    "Ex: 'Insira seu CPF (digite apenas números)'\n",
    "\n",
    "Caso o usuário digite algo diferente de números ou digite menos de 11 caracteres (tamanho do CPF brasileiro), o programa deve exibir uma mensagem de \"Digite seu CPF corretamente e digite apenas números\""
   ]
  },
  {
   "cell_type": "code",
   "execution_count": null,
   "metadata": {
    "id": "bdXCAhlv8rV3",
    "scrolled": true
   },
   "outputs": [],
   "source": [
    "cpf = input(\"digite seu CPF:\")\n",
    "if len (cpf) == 11 and cpf.isnumeric():\n",
    "    print(\"CPF VÁLIDO\") \n",
    "else:\n",
    "    print(\"Digite seu CPF corretamente e digite apenas números.\")"
   ]
  },
  {
   "cell_type": "markdown",
   "metadata": {
    "id": "BHeY3P-38rV3"
   },
   "source": [
    "## 2. Melhorando nosso Cadastro de CPF\n",
    "\n",
    "Agora, além das validações anteriores, vamos criar um input que permita que o usuário insira pontos, traços e inclusive espaços vazios.\n",
    "\n",
    "Nosso programa deve \"tratar\" o que o usuário inserir para padronizar o CPF dele em apenas números.\n",
    "\n",
    "A verificação de tamanho do CPF com 11 caracteres continua válida, mas ela só deve ser feita depois de retirar todos os pontos, traços e espaços do CPF que o cliente inserir e, uma vez retirados pontos, traços e espaços, devem sobrar apenas números no CPF. Qualquer outro caractere deve ser considerado inválido.\n",
    "\n",
    "No final, nosso programa deve exibir uma mensagem para o usuário, caso ele tenha inserido o CPF inválido ou então apenas deve printar o CPF correto já só com número."
   ]
  },
  {
   "cell_type": "code",
   "execution_count": 6,
   "metadata": {
    "id": "EpYgasTe8rV5"
   },
   "outputs": [
    {
     "name": "stdout",
     "output_type": "stream",
     "text": [
      "digite seu nome:IGOR\n",
      "digite seu CPF:10.1,0101,0.,1,0,1.,0.1,\n",
      "IGOR SEU CPF ESTÁ INVÁLIDO.\n",
      "1010101010101\n"
     ]
    }
   ],
   "source": [
    "nome= input(\"digite seu nome:\")\n",
    "texto = input(\"digite seu CPF:\")\n",
    "cpf=texto.replace(',','')\n",
    "texto = cpf.replace('.','')\n",
    "cpf = texto.replace('-','')\n",
    "if len (cpf) != 11 and cpf.isnumeric():\n",
    "    print(\"{} SEU CPF ESTÁ INVÁLIDO.\".format(nome)) \n",
    "else: \n",
    "    print(\"{} SEU CPF É VÁLIDO.\". format(nome))       \n",
    "print(cpf)"
   ]
  },
  {
   "cell_type": "markdown",
   "metadata": {
    "id": "szPQpnDg8rV6"
   },
   "source": [
    "## 3. Cadastro de e-mails\n",
    "\n",
    "- A Hashtag sempre se comunica com seus clientes por e-mail. Para isso, a gente tem em cada página um cadastro de nome e e-mail. Nesse cadastro, nosso sistema verifica se o e-mail que a pessoa inseriu é um e-mail válido, verificando se ele tem '@' e se depois do '@' tem algum ponto, afinal:\n",
    "\n",
    "- liragmail.com NÃO é um e-mail válido\n",
    "- lira@gmail NÃO é um e-mail válido\n",
    "- lira@gmail.com é um e-mail válido\n",
    "\n",
    "Crie um programa que permita o cadastro de nome e e-mail de uma pessoa (por meio de inputs) e que verifique:\n",
    "1. Se nome e e-mail foram preenchidos, caso contrário ele deve avisar para preencher todos os dados corretamente\n",
    "2. Se o e-mail contém '@' e se depois do '@' existe algum '.', caso contrário ele deve exibir uma mensagem de e-mail inválido\n",
    "\n",
    "Obs: Pode te ajudar lembrar do método .find da aula de Métodos de String. Você pode testar o que ele dá como resposta caso ele não encontre um item dentro da string"
   ]
  },
  {
   "cell_type": "code",
   "execution_count": null,
   "metadata": {
    "id": "crxKjmSh8rV7"
   },
   "outputs": [],
   "source": [
    "nome= input(\"insira seu nome:\")\n",
    "texto= input(\"insira seu email: \")\n",
    "if \"@\" in texto and \".\" in texto: \n",
    "    print(\"{} É UM E-MAIL VÁLIDO.\".format(texto))\n",
    "else:\n",
    "    print(\"{} É UM E-MAIL INVÁLIDO\".format(texto))"
   ]
  },
  {
   "cell_type": "code",
   "execution_count": 13,
   "metadata": {},
   "outputs": [
    {
     "name": "stdout",
     "output_type": "stream",
     "text": [
      "Tamanho do e-mail 27 caracteres\n",
      "Primeiro Caractere i\n",
      "Último Caractere m\n",
      "Servidor do email gmail.com\n"
     ]
    }
   ],
   "source": [
    "email = \"igoralvarenga2002@gmail.com\"\n",
    "print('Tamanho do e-mail: ' + str(len(email)) + ' caracteres')\n",
    "print('Primeiro Caractere: ' + email[0])\n",
    "print('Último Caractere: ' + email[26])\n",
    "print('Servidor do email: ' + email[18:27])"
   ]
  },
  {
   "cell_type": "code",
   "execution_count": null,
   "metadata": {},
   "outputs": [],
   "source": []
  }
 ],
 "metadata": {
  "colab": {
   "include_colab_link": true,
   "name": "06.06 Exercícios String.ipynb",
   "provenance": []
  },
  "kernelspec": {
   "display_name": "Python 3 (ipykernel)",
   "language": "python",
   "name": "python3"
  },
  "language_info": {
   "codemirror_mode": {
    "name": "ipython",
    "version": 3
   },
   "file_extension": ".py",
   "mimetype": "text/x-python",
   "name": "python",
   "nbconvert_exporter": "python",
   "pygments_lexer": "ipython3",
   "version": "3.9.7"
  }
 },
 "nbformat": 4,
 "nbformat_minor": 1
}
