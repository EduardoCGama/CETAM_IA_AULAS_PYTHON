{
 "cells": [
  {
   "cell_type": "markdown",
   "metadata": {
    "colab_type": "text",
    "id": "view-in-github"
   },
   "source": [
    "<a href=\"https://colab.research.google.com/github/hiramaralIA/CETAM_IA_AULAS_PYTHON/blob/main/Cartilha_M%C3%A9todos_de_String.ipynb\" target=\"_parent\"><img src=\"https://colab.research.google.com/assets/colab-badge.svg\" alt=\"Open In Colab\"/></a>"
   ]
  },
  {
   "cell_type": "markdown",
   "metadata": {
    "id": "2Cg3WP3878Mg"
   },
   "source": [
    "# Métodos de String\n",
    "\n",
    "Não decore os métodos, os que você for mais usando com o tempo você vai decorar o que precisar.\n",
    "\n",
    "Mas a dica é: use essa lista para consulta e busque entender como os métodos funcionam e suas aplicações, para poder consultar e usar quando precisar.\n",
    "\n",
    "## Métodos Embutidos no Python que funcionam em string:"
   ]
  },
  {
   "cell_type": "markdown",
   "metadata": {
    "id": "D9oeNKNM78Mi"
   },
   "source": [
    "- Sinal de Mais (+) -> Serve para concatenar strings"
   ]
  },
  {
   "cell_type": "raw",
   "metadata": {
    "id": "DrmkiU7m78Mj"
   },
   "source": [
    "    Uso: \n",
    "        usuario = 'iram'\n",
    "        servidor = 'gmail.com'\n",
    "        print(usuario + '@' + servidor)\n",
    "    Resultado: \n",
    "        'iram@gmail.com'"
   ]
  },
  {
   "cell_type": "markdown",
   "metadata": {
    "id": "CByWCgIK78Mj"
   },
   "source": [
    "- str() -> transforma o valor em string"
   ]
  },
  {
   "cell_type": "raw",
   "metadata": {
    "id": "90DsOktd78Mk"
   },
   "source": [
    "    Uso: \n",
    "        faturamento = 1000\n",
    "        print('O faturamento da loja foi de ' + str(faturamento))\n",
    "    Resultado: \n",
    "        'O faturamento da loja foi de 1000'"
   ]
  },
  {
   "cell_type": "markdown",
   "metadata": {
    "id": "XNlt9Fod78Mk"
   },
   "source": [
    "- in e not -> Servem para fazer verificações em string"
   ]
  },
  {
   "cell_type": "raw",
   "metadata": {
    "id": "lwX7N6Ur78Ml"
   },
   "source": [
    "    Uso: \n",
    "        servidor = 'gmail.com'\n",
    "        print(servidor in 'jose@gmail.com')\n",
    "        print(servidor not in jose@gmail.com')\n",
    "    Resultado: \n",
    "        True\n",
    "        False"
   ]
  },
  {
   "cell_type": "markdown",
   "metadata": {
    "id": "gABh0yZq78Mm"
   },
   "source": [
    "- len() -> Calcula o tamanho do texto (quantidade de caracteres)"
   ]
  },
  {
   "cell_type": "raw",
   "metadata": {
    "id": "PfJBHwaq78Mm"
   },
   "source": [
    "    Uso: \n",
    "        cpf = '15389731821'\n",
    "        print('O cpf tem' + len(cpf) + 'digitos.')\n",
    "    Resultado: \n",
    "        'O cpf tem 11 digitos'"
   ]
  },
  {
   "cell_type": "markdown",
   "metadata": {
    "id": "9Pu6z5EY78Mn"
   },
   "source": [
    "## Métodos Específicos de String:"
   ]
  },
  {
   "cell_type": "markdown",
   "metadata": {
    "id": "_hj5Ob0978Mn"
   },
   "source": [
    "- capitalize() -> Coloca a 1ª letra Maiúscula"
   ]
  },
  {
   "cell_type": "raw",
   "metadata": {
    "id": "EyVjSiNW78Mo"
   },
   "source": [
    "    Uso: \n",
    "        texto = 'iram'\n",
    "        print(texto.capitalize())\n",
    "    Resultado: \n",
    "        'Iram"
   ]
  },
  {
   "cell_type": "markdown",
   "metadata": {
    "id": "8s9n_z0D78Mo"
   },
   "source": [
    "- casefold() -> Transforma todas as letras em minúsculas (existe lower() mas o casefold é melhor normalmente)"
   ]
  },
  {
   "cell_type": "raw",
   "metadata": {
    "id": "iZEmMYEp78Mo"
   },
   "source": [
    "    Uso: \n",
    "        texto = 'Iram'\n",
    "        print(texto.casefold())\n",
    "    Resultado: \n",
    "        'iram'"
   ]
  },
  {
   "cell_type": "markdown",
   "metadata": {
    "id": "SCODVNZa78Mp"
   },
   "source": [
    "- count()\t-> Quantidade de vezes que um valor aparece na string"
   ]
  },
  {
   "cell_type": "raw",
   "metadata": {
    "id": "mB8i_4ov78Mp"
   },
   "source": [
    "    Uso:\n",
    "        texto = 'iram@yahoo.com.br'\n",
    "        print(texto.count('.'))\n",
    "    Resultado:\n",
    "        2"
   ]
  },
  {
   "cell_type": "markdown",
   "metadata": {
    "id": "5VggZ6cu78Mp"
   },
   "source": [
    "- endswith() -> Verifica se o texto termina com um valor específico e dá como resposta True ou False"
   ]
  },
  {
   "cell_type": "raw",
   "metadata": {
    "id": "WgnN-3vl78Mq"
   },
   "source": [
    "    Uso:\n",
    "        texto = 'iram@gmail.com'\n",
    "        print(texto.endswith('gmail.com'))\n",
    "    Resultado:\n",
    "        True"
   ]
  },
  {
   "cell_type": "markdown",
   "metadata": {
    "id": "yI6bf84e78Mq"
   },
   "source": [
    "- find() -> Procura um texto dentro de outro texto e dá como resposta a posição do texto encontrado"
   ]
  },
  {
   "cell_type": "raw",
   "metadata": {
    "id": "tgSrQEB378Mq"
   },
   "source": [
    "    Uso:\n",
    "        texto = 'iram@gmail.com'\n",
    "        print(texto.find('@'))\n",
    "    Resultado:\n",
    "        4\n",
    "    Obs: lembrando como funciona a posição nas strings, então o @ está na posição 4\n",
    "    i r a m @ g m a i l  .  c  o  m\n",
    "    0 1 2 3 4 5 6 7 8 9 10 11 12 13"
   ]
  },
  {
   "cell_type": "markdown",
   "metadata": {
    "id": "UWoMyXzG78Mq"
   },
   "source": [
    "- format() -> Formata uma string de acordo com os valores passados. Já usamos bastante ao longo do programa."
   ]
  },
  {
   "cell_type": "raw",
   "metadata": {
    "id": "EccfH2eU78Mr"
   },
   "source": [
    "    Uso:\n",
    "        faturamento = 1000\n",
    "        print('O faturamento da loja foi de {} reais'.format(faturamento))\n",
    "    Resultado:\n",
    "        'O faturamento da loja foi de 1000 reais'"
   ]
  },
  {
   "cell_type": "markdown",
   "metadata": {
    "id": "Gx14n3_478Mr"
   },
   "source": [
    "- isalnum() -> Verifica se um texto é todo feito com caracteres alfanuméricos (letras e números) -> letras com acento ou ç são considerados letras para essa função."
   ]
  },
  {
   "cell_type": "raw",
   "metadata": {
    "id": "gN_0JUNv78Mr"
   },
   "source": [
    "    Uso:\n",
    "        texto = 'Iram123'\n",
    "        print(texto.isalnum())\n",
    "    Resultado:\n",
    "        True\n",
    "    Obs: se o texto fosse 'Ir~am' ou então 'Iram#' o resultado seria False "
   ]
  },
  {
   "cell_type": "markdown",
   "metadata": {
    "id": "GPql4cg878Mr"
   },
   "source": [
    "- isalpha() -> Verifica se um texto é todo feito de letras."
   ]
  },
  {
   "cell_type": "raw",
   "metadata": {
    "id": "8MnWyCK478Ms"
   },
   "source": [
    "    Uso:\n",
    "        texto = 'Iram'\n",
    "        print(texto.isalpha())\n",
    "    Resultado:\n",
    "        True\n",
    "    Obs: nesse caso se o texto fosse 'Iram123' o resultado seria False, porque 123 não são letras."
   ]
  },
  {
   "cell_type": "markdown",
   "metadata": {
    "id": "1J3QLQvy78Ms"
   },
   "source": [
    "- isnumeric()\t-> Verifica se um texto é todo feito por números."
   ]
  },
  {
   "cell_type": "raw",
   "metadata": {
    "id": "GHl8E3Ip78Ms"
   },
   "source": [
    "    Uso:\n",
    "        texto = '123'\n",
    "        print(texto.isnumeric())\n",
    "    Resultado:\n",
    "        True\n",
    "    Obs: existem os métodos isdigit() e isdecimal() que tem variações pontuais em caracteres especiais tipo textos com frações e potências, mas para 99% dos casos eles não vão ser necessários."
   ]
  },
  {
   "cell_type": "markdown",
   "metadata": {
    "id": "fbWNBor878Ms"
   },
   "source": [
    "- replace() -> Substitui um texto por um outro texto em uma string."
   ]
  },
  {
   "cell_type": "raw",
   "metadata": {
    "id": "hxUc7qA378Ms"
   },
   "source": [
    "    Uso:\n",
    "        texto = '1000.00'\n",
    "        print(texto.replace('.', ','))\n",
    "    Resultado\n",
    "        '1000,00'\n",
    "    Obs: o replace precisa de 2 argumentos para funcionar. O 1º é o texto que você quer trocar. O 2º é o texto que você quer colocar no lugar daquele texto que você está tirando."
   ]
  },
  {
   "cell_type": "markdown",
   "metadata": {
    "id": "JlqQaDHH78Mt"
   },
   "source": [
    "- split()\t-> Separa uma string de acordo com um delimitador em vários textos diferentes."
   ]
  },
  {
   "cell_type": "raw",
   "metadata": {
    "id": "8wbtHvny78Mt"
   },
   "source": [
    "    Uso:\n",
    "        texto = 'iram@gmail.com'\n",
    "        print(texto.split('@'))\n",
    "    Resultado:\n",
    "        ['iram', 'gmail.com']\n"
   ]
  },
  {
   "cell_type": "markdown",
   "metadata": {
    "id": "oeDu5swj78Mt"
   },
   "source": [
    "- splitlines() -> separa um texto em vários textos de acordo com os \"enters\" do texto"
   ]
  },
  {
   "cell_type": "raw",
   "metadata": {
    "id": "V9h0jv5K78Mt"
   },
   "source": [
    "    Uso:\n",
    "        texto = '''Olá, bom dia\n",
    "        Venho por meio desse e-mail lhe informar o faturamento da loja no dia de hoje.\n",
    "        Faturamento = R$2.500,00\n",
    "        '''\n",
    "        print(texto.splitlines())\n",
    "    Resultado:\n",
    "        ['Olá, bom dia', 'Venho por meio desse e-mail lhe informar o faturamento da loja no dia de hoje.', 'Faturamento = R$2.500,00']"
   ]
  },
  {
   "cell_type": "markdown",
   "metadata": {
    "id": "CIP_7rTN78Mt"
   },
   "source": [
    "- startswith() -> Verifica se a string começa com determinado texto"
   ]
  },
  {
   "cell_type": "raw",
   "metadata": {
    "id": "AteJ3vik78Mt"
   },
   "source": [
    "    Uso:\n",
    "        texto = 'BEB123453'\n",
    "        print(texto.startswith('BEB'))\n",
    "    Resultado:\n",
    "        True"
   ]
  },
  {
   "cell_type": "markdown",
   "metadata": {
    "id": "63WlFTYx78Mu"
   },
   "source": [
    "- strip()\t-> Retira caracteres indesejados dos textos. Por padrão, retira espaços \"extras\" no início e no final"
   ]
  },
  {
   "cell_type": "raw",
   "metadata": {
    "id": "TWBSLwa_78Mu"
   },
   "source": [
    "    Uso:\n",
    "        texto = ' BEB123453 '\n",
    "        print(texto.strip())\n",
    "    Resultado:\n",
    "        'BEB123453'"
   ]
  },
  {
   "cell_type": "markdown",
   "metadata": {
    "id": "higeu7Dl78Mu"
   },
   "source": [
    "- title() -> Coloca a 1ª letra de cada palavra em maiúscula"
   ]
  },
  {
   "cell_type": "raw",
   "metadata": {
    "id": "keZ2sHEd78Mu"
   },
   "source": [
    "    Uso:\n",
    "        texto = 'iram lora lora'\n",
    "        print(texto.title())\n",
    "    Resultado:\n",
    "        'Iram Lora Lora'"
   ]
  },
  {
   "cell_type": "markdown",
   "metadata": {
    "id": "e2U32djV78Mu"
   },
   "source": [
    "- upper()\t-> Coloca o texto todo em letra maiúscula"
   ]
  },
  {
   "cell_type": "raw",
   "metadata": {
    "id": "euBLugUn78Mu"
   },
   "source": [
    "    Uso:\n",
    "        texto = 'beb12343'\n",
    "        print(texto.upper())\n",
    "    Resultado:\n",
    "        'BEB12343'"
   ]
  }
 ],
 "metadata": {
  "colab": {
   "include_colab_link": true,
   "name": "Cartilha Métodos de String.ipynb",
   "provenance": []
  },
  "kernelspec": {
   "display_name": "Python 3 (ipykernel)",
   "language": "python",
   "name": "python3"
  },
  "language_info": {
   "codemirror_mode": {
    "name": "ipython",
    "version": 3
   },
   "file_extension": ".py",
   "mimetype": "text/x-python",
   "name": "python",
   "nbconvert_exporter": "python",
   "pygments_lexer": "ipython3",
   "version": "3.9.7"
  }
 },
 "nbformat": 4,
 "nbformat_minor": 1
}
