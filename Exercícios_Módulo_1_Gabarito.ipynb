{
  "cells": [
    {
      "cell_type": "markdown",
      "metadata": {
        "id": "view-in-github",
        "colab_type": "text"
      },
      "source": [
        "<a href=\"https://colab.research.google.com/github/hiramaralIA/CETAM_IA_AULAS_PYTHON/blob/main/Exerc%C3%ADcios_M%C3%B3dulo_1_Gabarito.ipynb\" target=\"_parent\"><img src=\"https://colab.research.google.com/assets/colab-badge.svg\" alt=\"Open In Colab\"/></a>"
      ]
    },
    {
      "cell_type": "markdown",
      "metadata": {
        "id": "jM8Pz4bj3iUe"
      },
      "source": [
        "# Exercícios do Módulo 1 - Operações, Variáveis e Input"
      ]
    },
    {
      "cell_type": "markdown",
      "metadata": {
        "id": "UcRXaYp33iUh"
      },
      "source": [
        "### Parte 1 - Operações e Variáveis\n",
        "Crie um programa que imprima (print) os principais indicadores da loja Hashtag&Drink no último ano.\n",
        "Obs: faça tudo usando variáveis.\n",
        "\n",
        "Valores do último ano:\n",
        "\n",
        "Quantidade de Vendas de Coca = 150<br>\n",
        "Quantidade de Vendas de Pepsi = 130<br>\n",
        "Preço Unitário da Coca = 1,50 <br>\n",
        "Preço Unitário da Pepsi = 1,50 <br>\n",
        "Custo da Loja: 2.500,00\n",
        "\n",
        "Use o bloco abaixo para criar todas as variáveis que precisar."
      ]
    },
    {
      "cell_type": "code",
      "execution_count": null,
      "metadata": {
        "id": "_Wnf-KDE3iUi"
      },
      "outputs": [],
      "source": [
        "qtde_coca = 150\n",
        "qtde_pepsi = 130\n",
        "preco_coca = 1.50\n",
        "preco_pepsi = 1.50\n",
        "custo = 2500"
      ]
    },
    {
      "cell_type": "markdown",
      "metadata": {
        "id": "D-rgJdVR3iUk"
      },
      "source": [
        "1. Qual foi o faturamento de Pepsi da Loja?"
      ]
    },
    {
      "cell_type": "code",
      "execution_count": null,
      "metadata": {
        "id": "BCf_6IuY3iUk",
        "outputId": "2463ae22-b45a-478f-f3cc-dcc59b5f91db"
      },
      "outputs": [
        {
          "name": "stdout",
          "output_type": "stream",
          "text": [
            "195.0\n"
          ]
        }
      ],
      "source": [
        "print(qtde_pepsi * preco_pepsi)"
      ]
    },
    {
      "cell_type": "markdown",
      "metadata": {
        "id": "wU_r7lar3iUl"
      },
      "source": [
        "2. Qual foi o faturamento de Coca da Loja?"
      ]
    },
    {
      "cell_type": "code",
      "execution_count": null,
      "metadata": {
        "id": "ZisA44P43iUm",
        "outputId": "b1d77813-8cfd-4e8b-ce53-91e5490c1a53"
      },
      "outputs": [
        {
          "name": "stdout",
          "output_type": "stream",
          "text": [
            "225.0\n"
          ]
        }
      ],
      "source": [
        "print(qtde_coca * preco_coca)"
      ]
    },
    {
      "cell_type": "markdown",
      "metadata": {
        "id": "yeYZKCKV3iUm"
      },
      "source": [
        "3. Qual foi o Lucro da loja?"
      ]
    },
    {
      "cell_type": "code",
      "execution_count": null,
      "metadata": {
        "id": "_9P9KpB73iUn",
        "outputId": "e7eac0fa-94d9-429c-b001-c433cc476275"
      },
      "outputs": [
        {
          "name": "stdout",
          "output_type": "stream",
          "text": [
            "-2080.0\n"
          ]
        }
      ],
      "source": [
        "faturamento = qtde_coca * preco_coca + qtde_pepsi * preco_pepsi\n",
        "lucro = faturamento - custo\n",
        "print(lucro)"
      ]
    },
    {
      "cell_type": "markdown",
      "metadata": {
        "id": "Qfe6YAPX3iUn"
      },
      "source": [
        "4. Qual foi a Margem da Loja? (Lembre-se, margem = Lucro / Faturamento). Não precisa formatar em percentual"
      ]
    },
    {
      "cell_type": "code",
      "execution_count": null,
      "metadata": {
        "id": "dNaIaxMM3iUo",
        "outputId": "62f2603f-cfdb-4332-b226-899b80f6e92f"
      },
      "outputs": [
        {
          "name": "stdout",
          "output_type": "stream",
          "text": [
            "-4.9523809523809526\n"
          ]
        }
      ],
      "source": [
        "print(lucro / faturamento)"
      ]
    },
    {
      "cell_type": "markdown",
      "metadata": {
        "id": "F7HMTHdd3iUo"
      },
      "source": [
        "### Parte 2 - Inputs e Strings"
      ]
    },
    {
      "cell_type": "markdown",
      "metadata": {
        "id": "bkhfIxB93iUo"
      },
      "source": [
        "A maioria das empresas trabalham com um Código para cada produto que possuem. A Hashtag&Drink, por exemplo, tem mais de 1.000 produtos e possui um código para cada produto.\n",
        "Ex: <br>\n",
        "Coca -> Código: BEB1300543<br>\n",
        "Pepsi -> Código: BEB1300545<br>\n",
        "Vinho Primitivo Lucarelli -> Código: BAC1546001<br>\n",
        "Vodka Smirnoff -> Código: BAC17675002<br>\n",
        "\n",
        "Repare que todas as bebidas não alcóolicas tem o início do Código \"BEB\" e todas as bebidas alcóolicas tem o início do código \"BAC\".\n",
        "\n",
        "Crie um programa de consulta de bebida que, dado um código qualquer, identifique se a bebida é alcóolica. O programa deve responder True para bebidas alcóolicas e False para bebidas não alcóolicas. Para inserir um código, use um input.\n",
        "\n",
        "Dica: Lembre-se do comando in para strings e sempre insira os códigos com letra maiúscula para facilitar."
      ]
    },
    {
      "cell_type": "code",
      "execution_count": null,
      "metadata": {
        "id": "CK4bHqxx3iUp",
        "outputId": "442df02e-ca82-4e1c-a7c7-f7bfc71e5899"
      },
      "outputs": [
        {
          "name": "stdout",
          "output_type": "stream",
          "text": [
            "Qual é o código da bebida? (Insira tudo em letra maiúscula):BAC1546001\n",
            "True\n"
          ]
        }
      ],
      "source": [
        "codigo = input(\"Qual é o código da bebida? (Insira tudo em letra maiúscula):\")\n",
        "print(\"BAC\" in codigo)"
      ]
    }
  ],
  "metadata": {
    "kernelspec": {
      "display_name": "Python 3",
      "language": "python",
      "name": "python3"
    },
    "language_info": {
      "codemirror_mode": {
        "name": "ipython",
        "version": 3
      },
      "file_extension": ".py",
      "mimetype": "text/x-python",
      "name": "python",
      "nbconvert_exporter": "python",
      "pygments_lexer": "ipython3",
      "version": "3.8.3"
    },
    "colab": {
      "name": "Exercícios Módulo 1 - Gabarito.ipynb",
      "provenance": [],
      "include_colab_link": true
    }
  },
  "nbformat": 4,
  "nbformat_minor": 0
}