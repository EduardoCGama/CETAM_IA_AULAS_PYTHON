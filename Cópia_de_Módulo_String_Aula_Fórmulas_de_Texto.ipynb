{
  "cells": [
    {
      "cell_type": "markdown",
      "metadata": {
        "id": "view-in-github",
        "colab_type": "text"
      },
      "source": [
        "<a href=\"https://colab.research.google.com/github/hiramaralIA/CETAM_IA_AULAS_PYTHON/blob/main/C%C3%B3pia_de_M%C3%B3dulo_String_Aula_F%C3%B3rmulas_de_Texto.ipynb\" target=\"_parent\"><img src=\"https://colab.research.google.com/assets/colab-badge.svg\" alt=\"Open In Colab\"/></a>"
      ]
    },
    {
      "cell_type": "markdown",
      "metadata": {
        "id": "WlzLzdzz7tWX"
      },
      "source": [
        "# \"Fórmulas\" de Texto - Métodos de String\n",
        "\n",
        "## Estrutura:\n",
        "\n",
        "- Normalmente usamos a estrutura texto.método() para fazer as modificações que queremos\n",
        "- Alguns métodos pedem \"argumentos\", que são informações que temos que passar para a fórmula (método) para ela funcionar. Esses argumentos são passados dentro do parênteses\n",
        "\n",
        "## Como usar:\n",
        "\n",
        "Não decore os métodos, os que você for mais usando com o tempo você vai decorar o que precisar.\n",
        "\n",
        "Mas a dica é: use essa lista para consulta e busque entender como os métodos funcionam e suas aplicações, para poder consultar e usar quando precisar."
      ]
    },
    {
      "cell_type": "markdown",
      "metadata": {
        "id": "-WfRXOaX7tWZ"
      },
      "source": [
        "- capitalize() -> Coloca a 1ª letra Maiúscula"
      ]
    },
    {
      "cell_type": "raw",
      "metadata": {
        "id": "YWXkd0Ok7tWa"
      },
      "source": [
        "    Uso: \n",
        "        texto = 'lira'\n",
        "        print(texto.capitalize())\n",
        "    Resultado: \n",
        "        'Lira'"
      ]
    },
    {
      "cell_type": "markdown",
      "metadata": {
        "id": "CJAwPcfN7tWa"
      },
      "source": [
        "- casefold() -> Transforma todas as letras em minúsculas (existe lower() mas o casefold é melhor normalmente)"
      ]
    },
    {
      "cell_type": "raw",
      "metadata": {
        "id": "a6aIo7YG7tWa"
      },
      "source": [
        "    Uso: \n",
        "        texto = 'Lira'\n",
        "        print(texto.casefold())\n",
        "    Resultado: \n",
        "        'lira'"
      ]
    },
    {
      "cell_type": "markdown",
      "metadata": {
        "id": "IY-HOJZM7tWb"
      },
      "source": [
        "- count()\t-> Quantidade de vezes que um valor aparece na string"
      ]
    },
    {
      "cell_type": "raw",
      "metadata": {
        "id": "BqqNs0xv7tWb"
      },
      "source": [
        "    Uso:\n",
        "        texto = 'lira@yahoo.com.br'\n",
        "        print(texto.count('.'))\n",
        "    Resultado:\n",
        "        2"
      ]
    },
    {
      "cell_type": "markdown",
      "metadata": {
        "id": "o84L_8J-7tWc"
      },
      "source": [
        "- endswith() -> Verifica se o texto termina com um valor específico e dá como resposta True ou False"
      ]
    },
    {
      "cell_type": "raw",
      "metadata": {
        "id": "RwNtM2U17tWc"
      },
      "source": [
        "    Uso:\n",
        "        texto = 'lira@gmail.com'\n",
        "        print(texto.endswith('gmail.com'))\n",
        "    Resultado:\n",
        "        True"
      ]
    },
    {
      "cell_type": "markdown",
      "metadata": {
        "id": "6YIpSnGv7tWd"
      },
      "source": [
        "- find() -> Procura um texto dentro de outro texto e dá como resposta a posição do texto encontrado"
      ]
    },
    {
      "cell_type": "raw",
      "metadata": {
        "id": "AVx-7q6o7tWd"
      },
      "source": [
        "    Uso:\n",
        "        texto = 'lira@gmail.com'\n",
        "        print(texto.find('@'))\n",
        "    Resultado:\n",
        "        4\n",
        "    Obs: lembrando como funciona a posição nas strings, então o @ está na posição 4\n",
        "    l i r a @ g m a i l  .  c  o  m\n",
        "    0 1 2 3 4 5 6 7 8 9 10 11 12 13"
      ]
    },
    {
      "cell_type": "markdown",
      "metadata": {
        "id": "w6JeHTiD7tWd"
      },
      "source": [
        "- format() -> Formata uma string de acordo com os valores passados. Já usamos bastante ao longo do programa."
      ]
    },
    {
      "cell_type": "raw",
      "metadata": {
        "id": "zjRNYhdg7tWe"
      },
      "source": [
        "    Uso:\n",
        "        faturamento = 1000\n",
        "        print('O faturamento da loja foi de {} reais'.format(faturamento))\n",
        "    Resultado:\n",
        "        'O faturamento da loja foi de 1000 reais'"
      ]
    },
    {
      "cell_type": "markdown",
      "metadata": {
        "id": "oP3HiObU7tWe"
      },
      "source": [
        "- isalnum() -> Verifica se um texto é todo feito com caracteres alfanuméricos (letras e números) -> letras com acento ou ç são considerados letras para essa função."
      ]
    },
    {
      "cell_type": "raw",
      "metadata": {
        "id": "19YH50YA7tWe"
      },
      "source": [
        "    Uso:\n",
        "        texto = 'João123'\n",
        "        print(texto.isalnum())\n",
        "    Resultado:\n",
        "        True\n",
        "    Obs: se o texto fosse 'Jo~ao' ou então 'Joao#' o resultado seria False "
      ]
    },
    {
      "cell_type": "markdown",
      "metadata": {
        "id": "zJ20vfWw7tWe"
      },
      "source": [
        "- isalpha() -> Verifica se um texto é todo feito de letras."
      ]
    },
    {
      "cell_type": "raw",
      "metadata": {
        "id": "wQTvaUDw7tWf"
      },
      "source": [
        "    Uso:\n",
        "        texto = 'João'\n",
        "        print(texto.isalpha())\n",
        "    Resultado:\n",
        "        True\n",
        "    Obs: nesse caso se o texto fosse 'Joao123' o resultado seria False, porque 123 não são letras."
      ]
    },
    {
      "cell_type": "markdown",
      "metadata": {
        "id": "Fg8FDCWf7tWf"
      },
      "source": [
        "- isnumeric()\t-> Verifica se um texto é todo feito por números."
      ]
    },
    {
      "cell_type": "raw",
      "metadata": {
        "id": "aXibPgK77tWf"
      },
      "source": [
        "    Uso:\n",
        "        texto = '123'\n",
        "        print(texto.isnumeric())\n",
        "    Resultado:\n",
        "        True\n",
        "    Obs: existem os métodos isdigit() e isdecimal() que tem variações pontuais em caracteres especiais tipo textos com frações e potências, mas para 99% dos casos eles não vão ser necessários."
      ]
    },
    {
      "cell_type": "markdown",
      "metadata": {
        "id": "5AA8W0F77tWf"
      },
      "source": [
        "- replace() -> Substitui um texto por um outro texto em uma string."
      ]
    },
    {
      "cell_type": "raw",
      "metadata": {
        "id": "DyiE7Knb7tWg"
      },
      "source": [
        "    Uso:\n",
        "        texto = '1000.00'\n",
        "        print(texto.replace('.', ','))\n",
        "    Resultado\n",
        "        '1000,00'\n",
        "    Obs: o replace precisa de 2 argumentos para funcionar. O 1º é o texto que você quer trocar. O 2º é o texto que você quer colocar no lugar daquele texto que você está tirando."
      ]
    },
    {
      "cell_type": "markdown",
      "metadata": {
        "id": "WmZ7IttH7tWg"
      },
      "source": [
        "- split()\t-> Separa uma string de acordo com um delimitador em vários textos diferentes."
      ]
    },
    {
      "cell_type": "raw",
      "metadata": {
        "id": "DwKXw_1E7tWg"
      },
      "source": [
        "    Uso:\n",
        "        texto = 'lira@gmail.com'\n",
        "        print(texto.split('@'))\n",
        "    Resultado:\n",
        "        ['lira', 'gmail.com']\n"
      ]
    },
    {
      "cell_type": "markdown",
      "metadata": {
        "id": "pyBRdict7tWg"
      },
      "source": [
        "- splitlines() -> separa um texto em vários textos de acordo com os \"enters\" do texto"
      ]
    },
    {
      "cell_type": "raw",
      "metadata": {
        "id": "dZss_3dy7tWg"
      },
      "source": [
        "    Uso:\n",
        "        texto = '''Olá, bom dia\n",
        "        Venho por meio desse e-mail lhe informar o faturamento da loja no dia de hoje.\n",
        "        Faturamento = R$2.500,00\n",
        "        '''\n",
        "        print(texto.splitlines())\n",
        "    Resultado:\n",
        "        ['Olá, bom dia', 'Venho por meio desse e-mail lhe informar o faturamento da loja no dia de hoje.', 'Faturamento = R$2.500,00']"
      ]
    },
    {
      "cell_type": "markdown",
      "metadata": {
        "id": "Xv8b076l7tWg"
      },
      "source": [
        "- startswith() -> Verifica se a string começa com determinado texto"
      ]
    },
    {
      "cell_type": "raw",
      "metadata": {
        "id": "DqwWWtcJ7tWh"
      },
      "source": [
        "    Uso:\n",
        "        texto = 'BEB123453'\n",
        "        print(texto.startswith('BEB'))\n",
        "    Resultado:\n",
        "        True"
      ]
    },
    {
      "cell_type": "markdown",
      "metadata": {
        "id": "fDA3HfOf7tWh"
      },
      "source": [
        "- strip()\t-> Retira caracteres indesejados dos textos. Por padrão, retira espaços \"extras\" no início e no final"
      ]
    },
    {
      "cell_type": "raw",
      "metadata": {
        "id": "pauh8Ll27tWh"
      },
      "source": [
        "    Uso:\n",
        "        texto = ' BEB123453 '\n",
        "        print(texto.strip())\n",
        "    Resultado:\n",
        "        'BEB123453'"
      ]
    },
    {
      "cell_type": "markdown",
      "metadata": {
        "id": "S0rh6nsq7tWh"
      },
      "source": [
        "- title() -> Coloca a 1ª letra de cada palavra em maiúscula"
      ]
    },
    {
      "cell_type": "raw",
      "metadata": {
        "id": "Kh2YEW5s7tWh"
      },
      "source": [
        "    Uso:\n",
        "        texto = 'joão paulo lira'\n",
        "        print(texto.title())\n",
        "    Resultado:\n",
        "        'João Paulo Lira'"
      ]
    },
    {
      "cell_type": "markdown",
      "metadata": {
        "id": "0bAgR54r7tWh"
      },
      "source": [
        "- upper()\t-> Coloca o texto todo em letra maiúscula"
      ]
    },
    {
      "cell_type": "raw",
      "metadata": {
        "id": "AJ-EWZkf7tWh"
      },
      "source": [
        "    Uso:\n",
        "        texto = 'beb12343'\n",
        "        print(texto.upper())\n",
        "    Resultado:\n",
        "        'BEB12343'"
      ]
    },
    {
      "cell_type": "markdown",
      "metadata": {
        "id": "bTre21rS7tWh"
      },
      "source": [
        "## Exercitando"
      ]
    },
    {
      "cell_type": "code",
      "execution_count": null,
      "metadata": {
        "id": "vOIBdpei7tWi",
        "outputId": "a17c694d-6a78-49f5-d506-af71273c09aa"
      },
      "outputs": [
        {
          "name": "stdout",
          "output_type": "stream",
          "text": [
            "Faturmento da loja foi de 1000\n"
          ]
        }
      ],
      "source": [
        "texto = '''Olá, bom dia\n",
        "        Venho por meio desse e-mail lhe informar o faturamento da loja no dia de hoje.\n",
        "        Faturamento = R$2.500,00\n",
        "        '''"
      ]
    }
  ],
  "metadata": {
    "kernelspec": {
      "display_name": "Python 3",
      "language": "python",
      "name": "python3"
    },
    "language_info": {
      "codemirror_mode": {
        "name": "ipython",
        "version": 3
      },
      "file_extension": ".py",
      "mimetype": "text/x-python",
      "name": "python",
      "nbconvert_exporter": "python",
      "pygments_lexer": "ipython3",
      "version": "3.8.3"
    },
    "colab": {
      "name": "Cópia de Módulo String - Aula Fórmulas de Texto.ipynb",
      "provenance": [],
      "include_colab_link": true
    }
  },
  "nbformat": 4,
  "nbformat_minor": 0
}