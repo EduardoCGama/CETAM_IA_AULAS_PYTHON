{
  "cells": [
    {
      "cell_type": "markdown",
      "metadata": {
        "id": "view-in-github",
        "colab_type": "text"
      },
      "source": [
        "<a href=\"https://colab.research.google.com/github/hiramaralIA/CETAM_IA_AULAS_PYTHON/blob/main/Opera%C3%A7%C3%B5es_com_String.ipynb\" target=\"_parent\"><img src=\"https://colab.research.google.com/assets/colab-badge.svg\" alt=\"Open In Colab\"/></a>"
      ]
    },
    {
      "cell_type": "markdown",
      "metadata": {
        "id": "_IEncaIP4y3F"
      },
      "source": [
        "# Operações com String\n",
        "\n",
        "str -> transforma número em string<br>\n",
        "in -> verifica se um texto está contido dentro do outro<br>\n",
        "operador + -> concatenar string<br>\n",
        "format e {} -> substitui valores<br>\n",
        "%s -> substitui textos<br>\n",
        "%d -> substitui números decimais<br>\n",
        "\n",
        "Vamos deixar uma cartilha para download"
      ]
    },
    {
      "cell_type": "code",
      "execution_count": null,
      "metadata": {
        "id": "8-YKn2yQ4y3I"
      },
      "outputs": [],
      "source": [
        "faturamento = 1000\n",
        "custo = 500\n",
        "lucro = faturamento - custo"
      ]
    },
    {
      "cell_type": "markdown",
      "metadata": {
        "id": "IaBi2YXM4y3J"
      },
      "source": [
        "Uso do str() e do concatenar com +"
      ]
    },
    {
      "cell_type": "code",
      "execution_count": null,
      "metadata": {
        "id": "EcqR2Dcj4y3J"
      },
      "outputs": [],
      "source": [
        "print ('O faturamento da loja foi de: ' + faturamento)"
      ]
    },
    {
      "cell_type": "markdown",
      "metadata": {
        "id": "szfgdZYX4y3J"
      },
      "source": [
        "Uso do Format"
      ]
    },
    {
      "cell_type": "code",
      "execution_count": null,
      "metadata": {
        "id": "Fcgmqbtp4y3K"
      },
      "outputs": [],
      "source": [
        "print('O faturamento foi de: ')"
      ]
    },
    {
      "cell_type": "markdown",
      "metadata": {
        "id": "QUgNftTd4y3K"
      },
      "source": [
        "Uso do %s e %d"
      ]
    },
    {
      "cell_type": "code",
      "execution_count": null,
      "metadata": {
        "id": "5--Cy3ao4y3L"
      },
      "outputs": [],
      "source": [
        "print ('O faturamento foi de: ')"
      ]
    },
    {
      "cell_type": "markdown",
      "metadata": {
        "id": "aUO4DEI34y3L"
      },
      "source": [
        "Uso do in (mais exercícios práticos nas próximas aulas)"
      ]
    },
    {
      "cell_type": "code",
      "execution_count": null,
      "metadata": {
        "id": "PSN2dhgk4y3M"
      },
      "outputs": [],
      "source": [
        "print('@' in 'lira@gmail.com')\n",
        "print('@' in 'lira.gmail.com')"
      ]
    }
  ],
  "metadata": {
    "kernelspec": {
      "display_name": "Python 3",
      "language": "python",
      "name": "python3"
    },
    "language_info": {
      "codemirror_mode": {
        "name": "ipython",
        "version": 3
      },
      "file_extension": ".py",
      "mimetype": "text/x-python",
      "name": "python",
      "nbconvert_exporter": "python",
      "pygments_lexer": "ipython3",
      "version": "3.8.3"
    },
    "colab": {
      "name": "Operações com String.ipynb",
      "provenance": [],
      "include_colab_link": true
    }
  },
  "nbformat": 4,
  "nbformat_minor": 0
}