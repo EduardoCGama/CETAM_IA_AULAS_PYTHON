{
  "cells": [
    {
      "cell_type": "markdown",
      "metadata": {
        "id": "view-in-github",
        "colab_type": "text"
      },
      "source": [
        "<a href=\"https://colab.research.google.com/github/hiramaralIA/CETAM_IA_AULAS_PYTHON/blob/main/Gabarito_06_07_Strings_07.ipynb\" target=\"_parent\"><img src=\"https://colab.research.google.com/assets/colab-badge.svg\" alt=\"Open In Colab\"/></a>"
      ]
    },
    {
      "cell_type": "markdown",
      "metadata": {
        "id": "K4XW0R5v9mDO"
      },
      "source": [
        "# Format - Aula de Consulta\n",
        "\n",
        "### Como usar o format para criar formatações personalizadas em prints e textos."
      ]
    },
    {
      "cell_type": "raw",
      "metadata": {
        "id": "NObD2aOW9mDQ"
      },
      "source": [
        ":<\t\tAlinha o texto à esquerda (se tiver espaço na tela para isso)\n",
        ":>\t\tAlinha o texto à direita (se tiver espaço na tela para isso)\n",
        ":^\t\tAlinha o texto ao centro (se tiver espaço na tela para isso)\n",
        ":+\t\tColoca o sinal sempre na frente do número (independente se é positivo ou negativo)\n",
        ":,\t\tColoca a vírgula como separador de milhar\n",
        ":_\t\tColoca o _ como separador de milhar\n",
        ":e\t\tFormato Científico\n",
        ":f\t\tNúmero com quantidade fixa de casas decimais\n",
        ":x\t\tFormato HEX minúscula (para cores)\n",
        ":X\t\tFormato HEX maiúscula (para cores)\n",
        ":%\t\tFormato Percentual"
      ]
    },
    {
      "cell_type": "markdown",
      "metadata": {
        "id": "h0h6DXg59mDQ"
      },
      "source": [
        "- Exemplo de Alinhamento"
      ]
    },
    {
      "cell_type": "code",
      "execution_count": null,
      "metadata": {
        "id": "ISN4vOQn9mDR",
        "outputId": "5d272fc6-db6b-4eea-ee3e-644fea4de176"
      },
      "outputs": [
        {
          "name": "stdout",
          "output_type": "stream",
          "text": [
            "Meu e-mail não é                   lira@gmail.com                  , show?\n"
          ]
        }
      ],
      "source": [
        "email = 'lira@gmail.com'\n",
        "print('Meu e-mail não é {:^50}, show?'.format(email))"
      ]
    },
    {
      "cell_type": "markdown",
      "metadata": {
        "id": "R0agPe289mDS"
      },
      "source": [
        "- Exemplo de Edição de Sinal"
      ]
    },
    {
      "cell_type": "code",
      "execution_count": null,
      "metadata": {
        "id": "LH6DNCvy9mDS",
        "outputId": "24a2888f-554f-4621-b024-ca6a7b968b5e"
      },
      "outputs": [
        {
          "name": "stdout",
          "output_type": "stream",
          "text": [
            "Faturamento foi +270 e lucro foi -230\n"
          ]
        }
      ],
      "source": [
        "custo = 500\n",
        "faturamento = 270\n",
        "lucro = faturamento - custo\n",
        "print('Faturamento foi {:+} e lucro foi {:+}'.format(faturamento, lucro))"
      ]
    },
    {
      "cell_type": "markdown",
      "metadata": {
        "id": "r9ARUIQA9mDT"
      },
      "source": [
        "- Exemplo de Separador de Milhar"
      ]
    },
    {
      "cell_type": "code",
      "execution_count": null,
      "metadata": {
        "id": "RfI6EfK59mDT",
        "outputId": "3c7b33d3-a060-4d7a-afb9-bc1f80e9f99d"
      },
      "outputs": [
        {
          "name": "stdout",
          "output_type": "stream",
          "text": [
            "Faturamento foi +2,700 e lucro foi -2,300\n"
          ]
        }
      ],
      "source": [
        "custo = 5000\n",
        "faturamento = 2700\n",
        "lucro = faturamento - custo\n",
        "print('Faturamento foi {:+,} e lucro foi {:+,}'.format(faturamento, lucro))"
      ]
    },
    {
      "cell_type": "markdown",
      "metadata": {
        "id": "5hydhFwT9mDU"
      },
      "source": [
        "- Formato com casas Decimais fixas"
      ]
    },
    {
      "cell_type": "code",
      "execution_count": null,
      "metadata": {
        "id": "1AjhpnyQ9mDU",
        "outputId": "4b3fdb15-3f03-4129-d0fb-419907d20888"
      },
      "outputs": [
        {
          "name": "stdout",
          "output_type": "stream",
          "text": [
            "Faturamento foi 270.00 e lucro foi -230.0\n"
          ]
        }
      ],
      "source": [
        "custo = 500\n",
        "faturamento = 270\n",
        "lucro = faturamento - custo\n",
        "print('Faturamento foi {:.2f} e lucro foi {:.1f}'.format(faturamento, lucro))"
      ]
    },
    {
      "cell_type": "markdown",
      "metadata": {
        "id": "RFzBn0xz9mDV"
      },
      "source": [
        "- Formato Percentual"
      ]
    },
    {
      "cell_type": "code",
      "execution_count": null,
      "metadata": {
        "id": "lv8itXiZ9mDV",
        "outputId": "045047a1-f745-4965-f20f-36166a13a1c0"
      },
      "outputs": [
        {
          "name": "stdout",
          "output_type": "stream",
          "text": [
            "Margem de lucro foi de 61.54%\n"
          ]
        }
      ],
      "source": [
        "custo = 500\n",
        "faturamento = 1300\n",
        "lucro = faturamento - custo\n",
        "margem = lucro / faturamento\n",
        "print('Margem de lucro foi de {:.2%}'.format(margem))"
      ]
    },
    {
      "cell_type": "markdown",
      "metadata": {
        "id": "5P-mVWVv9mDV"
      },
      "source": [
        "- Formato Moeda -> Combinação de Formatos\n",
        "\n",
        "Existem módulos/bibliotecas que vão facilitar isso, caso a gente queira, mas vamos ver como usar módulos mais a frente do curso. Por enquanto, se você precisar, pode fazer substituições em string"
      ]
    },
    {
      "cell_type": "code",
      "execution_count": null,
      "metadata": {
        "id": "xLCcMDQJ9mDW",
        "outputId": "093b490d-a410-4b3c-93ac-df37c7325176"
      },
      "outputs": [
        {
          "name": "stdout",
          "output_type": "stream",
          "text": [
            "Faturamento foi R$27,000.00 e lucro foi R$22,000.00\n",
            "R$22.000,00\n"
          ]
        }
      ],
      "source": [
        "custo = 5000\n",
        "faturamento = 27000\n",
        "lucro = faturamento - custo\n",
        "print('Faturamento foi R${:,.2f} e lucro foi R${:,.2f}'.format(faturamento, lucro))\n",
        "\n",
        "#transformando no formato brasileiro\n",
        "lucro_texto = 'R${:_.2f}'.format(lucro)\n",
        "print(lucro_texto.replace('.', ',').replace('_', '.'))"
      ]
    },
    {
      "cell_type": "markdown",
      "metadata": {
        "id": "FLXb2TMx9mDW"
      },
      "source": [
        "- Função round() para arredondar números, caso seja necessário"
      ]
    },
    {
      "cell_type": "code",
      "execution_count": null,
      "metadata": {
        "id": "r9_JoeRR9mDW",
        "outputId": "47db44d7-f733-437d-86f5-af515ae3c3b8"
      },
      "outputs": [
        {
          "name": "stdout",
          "output_type": "stream",
          "text": [
            "Imposto sobre o preço é de 15.8\n"
          ]
        }
      ],
      "source": [
        "imposto = 0.15758\n",
        "preco = 100\n",
        "valor_imposto = round(preco * imposto, 1)\n",
        "print('Imposto sobre o preço é de {}'.format(valor_imposto))"
      ]
    }
  ],
  "metadata": {
    "kernelspec": {
      "display_name": "Python 3",
      "language": "python",
      "name": "python3"
    },
    "language_info": {
      "codemirror_mode": {
        "name": "ipython",
        "version": 3
      },
      "file_extension": ".py",
      "mimetype": "text/x-python",
      "name": "python",
      "nbconvert_exporter": "python",
      "pygments_lexer": "ipython3",
      "version": "3.8.3"
    },
    "colab": {
      "name": "Gabarito - 06.07 Strings 07.ipynb",
      "provenance": [],
      "include_colab_link": true
    }
  },
  "nbformat": 4,
  "nbformat_minor": 0
}