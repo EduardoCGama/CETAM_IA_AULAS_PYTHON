{
  "cells": [
    {
      "cell_type": "markdown",
      "metadata": {
        "id": "view-in-github",
        "colab_type": "text"
      },
      "source": [
        "<a href=\"https://colab.research.google.com/github/hiramaralIA/CETAM_IA_AULAS_PYTHON/blob/main/Indice_e_Tamanho_de_String.ipynb\" target=\"_parent\"><img src=\"https://colab.research.google.com/assets/colab-badge.svg\" alt=\"Open In Colab\"/></a>"
      ]
    },
    {
      "cell_type": "raw",
      "metadata": {
        "id": "aWr13Jq_yVEC"
      },
      "source": [
        "0 1 2 3 4 5 6 7 8 9 10 11 12 13\n",
        "l i r a @ g m a i l  .  c  o m\n",
        "\n",
        "Pegar um item de uma string: texto[índice]\n",
        "Pegar o tamanho de um texto: len(texto)"
      ]
    },
    {
      "cell_type": "code",
      "execution_count": 2,
      "metadata": {
        "id": "nyg1SK4cyVED",
        "outputId": "52655dce-4db3-43fe-fc9f-aebe9742ce1e",
        "colab": {
          "base_uri": "https://localhost:8080/"
        }
      },
      "outputs": [
        {
          "output_type": "stream",
          "name": "stdout",
          "text": [
            "hiram@gmail.com Hiram Amaral\n"
          ]
        }
      ],
      "source": [
        "email = 'hiram@gmail.com'\n",
        "nome = 'Hiram Amaral'\n",
        "print(email, nome)"
      ]
    }
  ],
  "metadata": {
    "kernelspec": {
      "display_name": "Python 3",
      "language": "python",
      "name": "python3"
    },
    "language_info": {
      "codemirror_mode": {
        "name": "ipython",
        "version": 3
      },
      "file_extension": ".py",
      "mimetype": "text/x-python",
      "name": "python",
      "nbconvert_exporter": "python",
      "pygments_lexer": "ipython3",
      "version": "3.8.3"
    },
    "colab": {
      "name": "Indice e Tamanho de String.ipynb",
      "provenance": [],
      "include_colab_link": true
    }
  },
  "nbformat": 4,
  "nbformat_minor": 0
}